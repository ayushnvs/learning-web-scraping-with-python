{
 "cells": [
  {
   "cell_type": "markdown",
   "id": "7c96392e",
   "metadata": {},
   "source": [
    "# Understanding Web Scraping"
   ]
  },
  {
   "cell_type": "markdown",
   "id": "fdd4de7c",
   "metadata": {},
   "source": [
    "## Importing BeautifulSoup4"
   ]
  },
  {
   "cell_type": "code",
   "execution_count": 1,
   "id": "ad027cb8-5e44-4356-8c32-1f81a00e10d3",
   "metadata": {},
   "outputs": [],
   "source": [
    "from bs4 import BeautifulSoup"
   ]
  },
  {
   "cell_type": "markdown",
   "id": "795ec7db",
   "metadata": {},
   "source": [
    "## Reading html file"
   ]
  },
  {
   "cell_type": "code",
   "execution_count": 2,
   "id": "3904ebb0-df2d-449a-a466-6f7179b0b92c",
   "metadata": {},
   "outputs": [
    {
     "name": "stdout",
     "output_type": "stream",
     "text": [
      "<!DOCTYPE html>\n",
      "<html lang=\"en\">\n",
      "    <head>\n",
      "        <!--Required meta tags-->\n",
      "        <meta charset=\"utf-8\">\n",
      "        <meta name=\"viewport\" content=\"width=device-width\">\n",
      "        <!--Bootstrap CSS-->\n",
      "        <link rel=\"stylesheet\">\n",
      "        <title>My Courses</title>\n",
      "    </head>\n",
      "    <body>\n",
      "        <h1>Hello, Start Learning!</h1>\n",
      "        <div class=\"card\" id=\"card-python-for-bs4\">\n",
      "            <div class=\"card-holder\">\n",
      "                Python\n",
      "            </div>\n",
      "            <div class=\"card-body\">\n",
      "                <h5 class=\"card-title\">Python for begineers</h5>\n",
      "                <p class=\"card-text\">If you are new to python, this is the course that you should buy!</p>\n",
      "                <a href=\"#\" class=\"btn btn-primary\">Start for 20$</a>\n",
      "            </div>\n",
      "        </div>\n",
      "        <div class=\"card\" id=\"card-python-for-bs4\">\n",
      "            <div class=\"card-holder\">\n",
      "                Python\n",
      "            </div>\n",
      "            <div class=\"card-body\">\n",
      "                <h5 class=\"card-title\">Python Web Development</h5>\n",
      "                <p class=\"card-text\">If you feel enough confident with python, you are ready to learn how to create your own website</p>\n",
      "                <a href=\"#\" class=\"btn btn-primary\">Start for 50$</a>\n",
      "            </div>\n",
      "        </div>\n",
      "        <div class=\"card\" id=\"card-python-for-bs4\">\n",
      "            <div class=\"card-holder\">\n",
      "                Python\n",
      "            </div>\n",
      "            <div class=\"card-body\">\n",
      "                <h5 class=\"card-title\">Python Machine Learning</h5>\n",
      "                <p class=\"card-text\">Become a Python Machine Learning master!</p>\n",
      "                <a href=\"#\" class=\"btn btn-primary\">Start for 100$</a>\n",
      "            </div>\n",
      "        </div>\n",
      "    </body>\n",
      "</html>\n"
     ]
    }
   ],
   "source": [
    "with open(\"home.html\", \"r\") as html_file:\n",
    "    content = html_file.read()\n",
    "    print(content)"
   ]
  },
  {
   "cell_type": "markdown",
   "id": "648d6545",
   "metadata": {},
   "source": [
    "## Creating BeautifulSoup object"
   ]
  },
  {
   "cell_type": "code",
   "execution_count": 3,
   "id": "a471771b",
   "metadata": {},
   "outputs": [
    {
     "name": "stdout",
     "output_type": "stream",
     "text": [
      "<!DOCTYPE html>\n",
      "<html lang=\"en\">\n",
      " <head>\n",
      "  <!--Required meta tags-->\n",
      "  <meta charset=\"utf-8\"/>\n",
      "  <meta content=\"width=device-width\" name=\"viewport\"/>\n",
      "  <!--Bootstrap CSS-->\n",
      "  <link rel=\"stylesheet\"/>\n",
      "  <title>\n",
      "   My Courses\n",
      "  </title>\n",
      " </head>\n",
      " <body>\n",
      "  <h1>\n",
      "   Hello, Start Learning!\n",
      "  </h1>\n",
      "  <div class=\"card\" id=\"card-python-for-bs4\">\n",
      "   <div class=\"card-holder\">\n",
      "    Python\n",
      "   </div>\n",
      "   <div class=\"card-body\">\n",
      "    <h5 class=\"card-title\">\n",
      "     Python for begineers\n",
      "    </h5>\n",
      "    <p class=\"card-text\">\n",
      "     If you are new to python, this is the course that you should buy!\n",
      "    </p>\n",
      "    <a class=\"btn btn-primary\" href=\"#\">\n",
      "     Start for 20$\n",
      "    </a>\n",
      "   </div>\n",
      "  </div>\n",
      "  <div class=\"card\" id=\"card-python-for-bs4\">\n",
      "   <div class=\"card-holder\">\n",
      "    Python\n",
      "   </div>\n",
      "   <div class=\"card-body\">\n",
      "    <h5 class=\"card-title\">\n",
      "     Python Web Development\n",
      "    </h5>\n",
      "    <p class=\"card-text\">\n",
      "     If you feel enough confident with python, you are ready to learn how to create your own website\n",
      "    </p>\n",
      "    <a class=\"btn btn-primary\" href=\"#\">\n",
      "     Start for 50$\n",
      "    </a>\n",
      "   </div>\n",
      "  </div>\n",
      "  <div class=\"card\" id=\"card-python-for-bs4\">\n",
      "   <div class=\"card-holder\">\n",
      "    Python\n",
      "   </div>\n",
      "   <div class=\"card-body\">\n",
      "    <h5 class=\"card-title\">\n",
      "     Python Machine Learning\n",
      "    </h5>\n",
      "    <p class=\"card-text\">\n",
      "     Become a Python Machine Learning master!\n",
      "    </p>\n",
      "    <a class=\"btn btn-primary\" href=\"#\">\n",
      "     Start for 100$\n",
      "    </a>\n",
      "   </div>\n",
      "  </div>\n",
      " </body>\n",
      "</html>\n"
     ]
    }
   ],
   "source": [
    "soup = BeautifulSoup(content, \"lxml\")\n",
    "print(soup.prettify())"
   ]
  },
  {
   "cell_type": "markdown",
   "id": "6c738b23",
   "metadata": {},
   "source": [
    "## Finding a single tag"
   ]
  },
  {
   "cell_type": "code",
   "execution_count": 4,
   "id": "2d4bbc79",
   "metadata": {},
   "outputs": [
    {
     "name": "stdout",
     "output_type": "stream",
     "text": [
      "<h5 class=\"card-title\">Python for begineers</h5>\n"
     ]
    }
   ],
   "source": [
    "tags = soup.find(\"h5\")\n",
    "print(tags)"
   ]
  },
  {
   "cell_type": "markdown",
   "id": "4a457e2a",
   "metadata": {},
   "source": [
    "## Finding all related tags"
   ]
  },
  {
   "cell_type": "code",
   "execution_count": 5,
   "id": "fec21803",
   "metadata": {},
   "outputs": [
    {
     "name": "stdout",
     "output_type": "stream",
     "text": [
      "[<h5 class=\"card-title\">Python for begineers</h5>, <h5 class=\"card-title\">Python Web Development</h5>, <h5 class=\"card-title\">Python Machine Learning</h5>]\n"
     ]
    }
   ],
   "source": [
    "tags_all = soup.find_all(\"h5\")\n",
    "print(tags_all)"
   ]
  },
  {
   "cell_type": "markdown",
   "id": "5b3ce777",
   "metadata": {},
   "source": [
    "## Extracting texts from a tags"
   ]
  },
  {
   "cell_type": "code",
   "execution_count": 6,
   "id": "a2bfca7a",
   "metadata": {},
   "outputs": [
    {
     "name": "stdout",
     "output_type": "stream",
     "text": [
      "Python for begineers\n",
      "Python Web Development\n",
      "Python Machine Learning\n"
     ]
    }
   ],
   "source": [
    "for course in tags_all:\n",
    "    print(course.text)"
   ]
  },
  {
   "cell_type": "code",
   "execution_count": 10,
   "id": "2408b79d",
   "metadata": {},
   "outputs": [
    {
     "name": "stdout",
     "output_type": "stream",
     "text": [
      "[<div class=\"card\" id=\"card-python-for-bs4\">\n",
      "<div class=\"card-holder\">\n",
      "                Python\n",
      "            </div>\n",
      "<div class=\"card-body\">\n",
      "<h5 class=\"card-title\">Python for begineers</h5>\n",
      "<p class=\"card-text\">If you are new to python, this is the course that you should buy!</p>\n",
      "<a class=\"btn btn-primary\" href=\"#\">Start for 20$</a>\n",
      "</div>\n",
      "</div>, <div class=\"card\" id=\"card-python-for-bs4\">\n",
      "<div class=\"card-holder\">\n",
      "                Python\n",
      "            </div>\n",
      "<div class=\"card-body\">\n",
      "<h5 class=\"card-title\">Python Web Development</h5>\n",
      "<p class=\"card-text\">If you feel enough confident with python, you are ready to learn how to create your own website</p>\n",
      "<a class=\"btn btn-primary\" href=\"#\">Start for 50$</a>\n",
      "</div>\n",
      "</div>, <div class=\"card\" id=\"card-python-for-bs4\">\n",
      "<div class=\"card-holder\">\n",
      "                Python\n",
      "            </div>\n",
      "<div class=\"card-body\">\n",
      "<h5 class=\"card-title\">Python Machine Learning</h5>\n",
      "<p class=\"card-text\">Become a Python Machine Learning master!</p>\n",
      "<a class=\"btn btn-primary\" href=\"#\">Start for 100$</a>\n",
      "</div>\n",
      "</div>]\n"
     ]
    }
   ],
   "source": [
    "course_cards = soup.find_all(\"div\", class_=\"card\")\n",
    "print(course_cards)"
   ]
  },
  {
   "cell_type": "markdown",
   "id": "7c022926",
   "metadata": {},
   "source": [
    "## Extracting tags as method"
   ]
  },
  {
   "cell_type": "code",
   "execution_count": 13,
   "id": "194f5cb0",
   "metadata": {},
   "outputs": [
    {
     "name": "stdout",
     "output_type": "stream",
     "text": [
      "<h5 class=\"card-title\">Python for begineers</h5>\n",
      "<h5 class=\"card-title\">Python Web Development</h5>\n",
      "<h5 class=\"card-title\">Python Machine Learning</h5>\n"
     ]
    }
   ],
   "source": [
    "for course in course_cards:\n",
    "    print(course.h5)"
   ]
  },
  {
   "cell_type": "code",
   "execution_count": 16,
   "id": "e7ac7190",
   "metadata": {},
   "outputs": [
    {
     "name": "stdout",
     "output_type": "stream",
     "text": [
      "Python for begineers \n",
      " Start for 20$\n",
      "Python Web Development \n",
      " Start for 50$\n",
      "Python Machine Learning \n",
      " Start for 100$\n"
     ]
    }
   ],
   "source": [
    "for course in course_cards:\n",
    "    course_name = course.h5.text\n",
    "    course_price = course.a.text\n",
    "    print(course_name, \"\\n\", course_price)"
   ]
  },
  {
   "cell_type": "code",
   "execution_count": 18,
   "id": "6a3f7ad7",
   "metadata": {},
   "outputs": [
    {
     "name": "stdout",
     "output_type": "stream",
     "text": [
      "Python for begineers costs 20$\n",
      "Python Web Development costs 50$\n",
      "Python Machine Learning costs 100$\n"
     ]
    }
   ],
   "source": [
    "for course in course_cards:\n",
    "    course_name = course.h5.text\n",
    "    course_price = course.a.text.split()[-1]\n",
    "    print(f\"{course_name} costs {course_price}\")\n",
    "    "
   ]
  },
  {
   "cell_type": "code",
   "execution_count": null,
   "id": "7e89e2e3",
   "metadata": {},
   "outputs": [],
   "source": []
  }
 ],
 "metadata": {
  "kernelspec": {
   "display_name": "Python 3",
   "language": "python",
   "name": "python3"
  },
  "language_info": {
   "codemirror_mode": {
    "name": "ipython",
    "version": 3
   },
   "file_extension": ".py",
   "mimetype": "text/x-python",
   "name": "python",
   "nbconvert_exporter": "python",
   "pygments_lexer": "ipython3",
   "version": "3.9.5"
  }
 },
 "nbformat": 4,
 "nbformat_minor": 5
}
